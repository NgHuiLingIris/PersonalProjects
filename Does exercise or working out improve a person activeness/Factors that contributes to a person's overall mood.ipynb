{
 "cells": [
  {
   "cell_type": "markdown",
   "metadata": {},
   "source": [
    "This dataset was taken from \n",
    "https://www.kaggle.com/aroojanwarkhan/fitness-data-trends\n",
    "where a single person recorded his fitness trend and corresponding mood."
   ]
  },
  {
   "cell_type": "markdown",
   "metadata": {},
   "source": [
    "Here, the factors that we will explore will be\n",
    "- step_count\n",
    "- calories_burned\n",
    "- hours_of_sleep\n",
    "- bool_of_active\n",
    "- weight_kg"
   ]
  },
  {
   "cell_type": "code",
   "execution_count": 40,
   "metadata": {},
   "outputs": [],
   "source": [
    "import numpy as np\n",
    "import pandas as pd\n",
    "import sklearn\n",
    "import matplotlib.pyplot as plt\n",
    "from sklearn.model_selection import train_test_split"
   ]
  },
  {
   "cell_type": "code",
   "execution_count": 2,
   "metadata": {},
   "outputs": [
    {
     "data": {
      "text/html": [
       "<div>\n",
       "<style scoped>\n",
       "    .dataframe tbody tr th:only-of-type {\n",
       "        vertical-align: middle;\n",
       "    }\n",
       "\n",
       "    .dataframe tbody tr th {\n",
       "        vertical-align: top;\n",
       "    }\n",
       "\n",
       "    .dataframe thead th {\n",
       "        text-align: right;\n",
       "    }\n",
       "</style>\n",
       "<table border=\"1\" class=\"dataframe\">\n",
       "  <thead>\n",
       "    <tr style=\"text-align: right;\">\n",
       "      <th></th>\n",
       "      <th>date</th>\n",
       "      <th>step_count</th>\n",
       "      <th>mood</th>\n",
       "      <th>calories_burned</th>\n",
       "      <th>hours_of_sleep</th>\n",
       "      <th>bool_of_active</th>\n",
       "      <th>weight_kg</th>\n",
       "    </tr>\n",
       "  </thead>\n",
       "  <tbody>\n",
       "    <tr>\n",
       "      <th>0</th>\n",
       "      <td>2017-10-06</td>\n",
       "      <td>5464</td>\n",
       "      <td>200</td>\n",
       "      <td>181</td>\n",
       "      <td>5</td>\n",
       "      <td>0</td>\n",
       "      <td>66</td>\n",
       "    </tr>\n",
       "    <tr>\n",
       "      <th>1</th>\n",
       "      <td>2017-10-07</td>\n",
       "      <td>6041</td>\n",
       "      <td>100</td>\n",
       "      <td>197</td>\n",
       "      <td>8</td>\n",
       "      <td>0</td>\n",
       "      <td>66</td>\n",
       "    </tr>\n",
       "    <tr>\n",
       "      <th>2</th>\n",
       "      <td>2017-10-08</td>\n",
       "      <td>25</td>\n",
       "      <td>100</td>\n",
       "      <td>0</td>\n",
       "      <td>5</td>\n",
       "      <td>0</td>\n",
       "      <td>66</td>\n",
       "    </tr>\n",
       "    <tr>\n",
       "      <th>3</th>\n",
       "      <td>2017-10-09</td>\n",
       "      <td>5461</td>\n",
       "      <td>100</td>\n",
       "      <td>174</td>\n",
       "      <td>4</td>\n",
       "      <td>0</td>\n",
       "      <td>66</td>\n",
       "    </tr>\n",
       "    <tr>\n",
       "      <th>4</th>\n",
       "      <td>2017-10-10</td>\n",
       "      <td>6915</td>\n",
       "      <td>200</td>\n",
       "      <td>223</td>\n",
       "      <td>5</td>\n",
       "      <td>500</td>\n",
       "      <td>66</td>\n",
       "    </tr>\n",
       "  </tbody>\n",
       "</table>\n",
       "</div>"
      ],
      "text/plain": [
       "         date  step_count  mood  calories_burned  hours_of_sleep  \\\n",
       "0  2017-10-06        5464   200              181               5   \n",
       "1  2017-10-07        6041   100              197               8   \n",
       "2  2017-10-08          25   100                0               5   \n",
       "3  2017-10-09        5461   100              174               4   \n",
       "4  2017-10-10        6915   200              223               5   \n",
       "\n",
       "   bool_of_active  weight_kg  \n",
       "0               0         66  \n",
       "1               0         66  \n",
       "2               0         66  \n",
       "3               0         66  \n",
       "4             500         66  "
      ]
     },
     "execution_count": 2,
     "metadata": {},
     "output_type": "execute_result"
    }
   ],
   "source": [
    "# read in data from sample file\n",
    "df = pd.read_csv('25.csv')\n",
    "df.head() # show the first five rows"
   ]
  },
  {
   "cell_type": "code",
   "execution_count": 13,
   "metadata": {},
   "outputs": [],
   "source": [
    "dataDrop = df.copy()\n",
    "dataDrop = dataDrop.drop('date', axis=1)"
   ]
  },
  {
   "cell_type": "markdown",
   "metadata": {},
   "source": [
    "It is assumed that step-count is positively correlated to calories_burned"
   ]
  },
  {
   "cell_type": "code",
   "execution_count": 14,
   "metadata": {},
   "outputs": [
    {
     "data": {
      "text/html": [
       "<style  type=\"text/css\" >\n",
       "    #T_4f535ad8_abc2_11e9_9494_debd95a61f1drow0_col0 {\n",
       "            background-color:  #b40426;\n",
       "            color:  #f1f1f1;\n",
       "        }    #T_4f535ad8_abc2_11e9_9494_debd95a61f1drow0_col1 {\n",
       "            background-color:  #d8dce2;\n",
       "            color:  #000000;\n",
       "        }    #T_4f535ad8_abc2_11e9_9494_debd95a61f1drow0_col2 {\n",
       "            background-color:  #b70d28;\n",
       "            color:  #f1f1f1;\n",
       "        }    #T_4f535ad8_abc2_11e9_9494_debd95a61f1drow0_col3 {\n",
       "            background-color:  #3b4cc0;\n",
       "            color:  #f1f1f1;\n",
       "        }    #T_4f535ad8_abc2_11e9_9494_debd95a61f1drow0_col4 {\n",
       "            background-color:  #a6c4fe;\n",
       "            color:  #000000;\n",
       "        }    #T_4f535ad8_abc2_11e9_9494_debd95a61f1drow0_col5 {\n",
       "            background-color:  #bcd2f7;\n",
       "            color:  #000000;\n",
       "        }    #T_4f535ad8_abc2_11e9_9494_debd95a61f1drow1_col0 {\n",
       "            background-color:  #7597f6;\n",
       "            color:  #000000;\n",
       "        }    #T_4f535ad8_abc2_11e9_9494_debd95a61f1drow1_col1 {\n",
       "            background-color:  #b40426;\n",
       "            color:  #f1f1f1;\n",
       "        }    #T_4f535ad8_abc2_11e9_9494_debd95a61f1drow1_col2 {\n",
       "            background-color:  #6f92f3;\n",
       "            color:  #000000;\n",
       "        }    #T_4f535ad8_abc2_11e9_9494_debd95a61f1drow1_col3 {\n",
       "            background-color:  #6788ee;\n",
       "            color:  #000000;\n",
       "        }    #T_4f535ad8_abc2_11e9_9494_debd95a61f1drow1_col4 {\n",
       "            background-color:  #e2dad5;\n",
       "            color:  #000000;\n",
       "        }    #T_4f535ad8_abc2_11e9_9494_debd95a61f1drow1_col5 {\n",
       "            background-color:  #3b4cc0;\n",
       "            color:  #f1f1f1;\n",
       "        }    #T_4f535ad8_abc2_11e9_9494_debd95a61f1drow2_col0 {\n",
       "            background-color:  #b70d28;\n",
       "            color:  #f1f1f1;\n",
       "        }    #T_4f535ad8_abc2_11e9_9494_debd95a61f1drow2_col1 {\n",
       "            background-color:  #d6dce4;\n",
       "            color:  #000000;\n",
       "        }    #T_4f535ad8_abc2_11e9_9494_debd95a61f1drow2_col2 {\n",
       "            background-color:  #b40426;\n",
       "            color:  #f1f1f1;\n",
       "        }    #T_4f535ad8_abc2_11e9_9494_debd95a61f1drow2_col3 {\n",
       "            background-color:  #3b4cc0;\n",
       "            color:  #f1f1f1;\n",
       "        }    #T_4f535ad8_abc2_11e9_9494_debd95a61f1drow2_col4 {\n",
       "            background-color:  #a3c2fe;\n",
       "            color:  #000000;\n",
       "        }    #T_4f535ad8_abc2_11e9_9494_debd95a61f1drow2_col5 {\n",
       "            background-color:  #bed2f6;\n",
       "            color:  #000000;\n",
       "        }    #T_4f535ad8_abc2_11e9_9494_debd95a61f1drow3_col0 {\n",
       "            background-color:  #3b4cc0;\n",
       "            color:  #f1f1f1;\n",
       "        }    #T_4f535ad8_abc2_11e9_9494_debd95a61f1drow3_col1 {\n",
       "            background-color:  #d2dbe8;\n",
       "            color:  #000000;\n",
       "        }    #T_4f535ad8_abc2_11e9_9494_debd95a61f1drow3_col2 {\n",
       "            background-color:  #3b4cc0;\n",
       "            color:  #f1f1f1;\n",
       "        }    #T_4f535ad8_abc2_11e9_9494_debd95a61f1drow3_col3 {\n",
       "            background-color:  #b40426;\n",
       "            color:  #f1f1f1;\n",
       "        }    #T_4f535ad8_abc2_11e9_9494_debd95a61f1drow3_col4 {\n",
       "            background-color:  #aac7fd;\n",
       "            color:  #000000;\n",
       "        }    #T_4f535ad8_abc2_11e9_9494_debd95a61f1drow3_col5 {\n",
       "            background-color:  #cdd9ec;\n",
       "            color:  #000000;\n",
       "        }    #T_4f535ad8_abc2_11e9_9494_debd95a61f1drow4_col0 {\n",
       "            background-color:  #485fd1;\n",
       "            color:  #f1f1f1;\n",
       "        }    #T_4f535ad8_abc2_11e9_9494_debd95a61f1drow4_col1 {\n",
       "            background-color:  #eed0c0;\n",
       "            color:  #000000;\n",
       "        }    #T_4f535ad8_abc2_11e9_9494_debd95a61f1drow4_col2 {\n",
       "            background-color:  #445acc;\n",
       "            color:  #f1f1f1;\n",
       "        }    #T_4f535ad8_abc2_11e9_9494_debd95a61f1drow4_col3 {\n",
       "            background-color:  #4c66d6;\n",
       "            color:  #000000;\n",
       "        }    #T_4f535ad8_abc2_11e9_9494_debd95a61f1drow4_col4 {\n",
       "            background-color:  #b40426;\n",
       "            color:  #f1f1f1;\n",
       "        }    #T_4f535ad8_abc2_11e9_9494_debd95a61f1drow4_col5 {\n",
       "            background-color:  #5d7ce6;\n",
       "            color:  #000000;\n",
       "        }    #T_4f535ad8_abc2_11e9_9494_debd95a61f1drow5_col0 {\n",
       "            background-color:  #4358cb;\n",
       "            color:  #f1f1f1;\n",
       "        }    #T_4f535ad8_abc2_11e9_9494_debd95a61f1drow5_col1 {\n",
       "            background-color:  #3b4cc0;\n",
       "            color:  #f1f1f1;\n",
       "        }    #T_4f535ad8_abc2_11e9_9494_debd95a61f1drow5_col2 {\n",
       "            background-color:  #445acc;\n",
       "            color:  #f1f1f1;\n",
       "        }    #T_4f535ad8_abc2_11e9_9494_debd95a61f1drow5_col3 {\n",
       "            background-color:  #5f7fe8;\n",
       "            color:  #000000;\n",
       "        }    #T_4f535ad8_abc2_11e9_9494_debd95a61f1drow5_col4 {\n",
       "            background-color:  #3b4cc0;\n",
       "            color:  #f1f1f1;\n",
       "        }    #T_4f535ad8_abc2_11e9_9494_debd95a61f1drow5_col5 {\n",
       "            background-color:  #b40426;\n",
       "            color:  #f1f1f1;\n",
       "        }</style><table id=\"T_4f535ad8_abc2_11e9_9494_debd95a61f1d\" ><thead>    <tr>        <th class=\"blank level0\" ></th>        <th class=\"col_heading level0 col0\" >step_count</th>        <th class=\"col_heading level0 col1\" >mood</th>        <th class=\"col_heading level0 col2\" >calories_burned</th>        <th class=\"col_heading level0 col3\" >hours_of_sleep</th>        <th class=\"col_heading level0 col4\" >bool_of_active</th>        <th class=\"col_heading level0 col5\" >weight_kg</th>    </tr></thead><tbody>\n",
       "                <tr>\n",
       "                        <th id=\"T_4f535ad8_abc2_11e9_9494_debd95a61f1dlevel0_row0\" class=\"row_heading level0 row0\" >step_count</th>\n",
       "                        <td id=\"T_4f535ad8_abc2_11e9_9494_debd95a61f1drow0_col0\" class=\"data row0 col0\" >1</td>\n",
       "                        <td id=\"T_4f535ad8_abc2_11e9_9494_debd95a61f1drow0_col1\" class=\"data row0 col1\" >0.246738</td>\n",
       "                        <td id=\"T_4f535ad8_abc2_11e9_9494_debd95a61f1drow0_col2\" class=\"data row0 col2\" >0.98926</td>\n",
       "                        <td id=\"T_4f535ad8_abc2_11e9_9494_debd95a61f1drow0_col3\" class=\"data row0 col3\" >0.0806867</td>\n",
       "                        <td id=\"T_4f535ad8_abc2_11e9_9494_debd95a61f1drow0_col4\" class=\"data row0 col4\" >0.120212</td>\n",
       "                        <td id=\"T_4f535ad8_abc2_11e9_9494_debd95a61f1drow0_col5\" class=\"data row0 col5\" >0.109404</td>\n",
       "            </tr>\n",
       "            <tr>\n",
       "                        <th id=\"T_4f535ad8_abc2_11e9_9494_debd95a61f1dlevel0_row1\" class=\"row_heading level0 row1\" >mood</th>\n",
       "                        <td id=\"T_4f535ad8_abc2_11e9_9494_debd95a61f1drow1_col0\" class=\"data row1 col0\" >0.246738</td>\n",
       "                        <td id=\"T_4f535ad8_abc2_11e9_9494_debd95a61f1drow1_col1\" class=\"data row1 col1\" >1</td>\n",
       "                        <td id=\"T_4f535ad8_abc2_11e9_9494_debd95a61f1drow1_col2\" class=\"data row1 col2\" >0.235044</td>\n",
       "                        <td id=\"T_4f535ad8_abc2_11e9_9494_debd95a61f1drow1_col3\" class=\"data row1 col3\" >0.210417</td>\n",
       "                        <td id=\"T_4f535ad8_abc2_11e9_9494_debd95a61f1drow1_col4\" class=\"data row1 col4\" >0.379646</td>\n",
       "                        <td id=\"T_4f535ad8_abc2_11e9_9494_debd95a61f1drow1_col5\" class=\"data row1 col5\" >-0.458776</td>\n",
       "            </tr>\n",
       "            <tr>\n",
       "                        <th id=\"T_4f535ad8_abc2_11e9_9494_debd95a61f1dlevel0_row2\" class=\"row_heading level0 row2\" >calories_burned</th>\n",
       "                        <td id=\"T_4f535ad8_abc2_11e9_9494_debd95a61f1drow2_col0\" class=\"data row2 col0\" >0.98926</td>\n",
       "                        <td id=\"T_4f535ad8_abc2_11e9_9494_debd95a61f1drow2_col1\" class=\"data row2 col1\" >0.235044</td>\n",
       "                        <td id=\"T_4f535ad8_abc2_11e9_9494_debd95a61f1drow2_col2\" class=\"data row2 col2\" >1</td>\n",
       "                        <td id=\"T_4f535ad8_abc2_11e9_9494_debd95a61f1drow2_col3\" class=\"data row2 col3\" >0.0807261</td>\n",
       "                        <td id=\"T_4f535ad8_abc2_11e9_9494_debd95a61f1drow2_col4\" class=\"data row2 col4\" >0.1109</td>\n",
       "                        <td id=\"T_4f535ad8_abc2_11e9_9494_debd95a61f1drow2_col5\" class=\"data row2 col5\" >0.1122</td>\n",
       "            </tr>\n",
       "            <tr>\n",
       "                        <th id=\"T_4f535ad8_abc2_11e9_9494_debd95a61f1dlevel0_row3\" class=\"row_heading level0 row3\" >hours_of_sleep</th>\n",
       "                        <td id=\"T_4f535ad8_abc2_11e9_9494_debd95a61f1drow3_col0\" class=\"data row3 col0\" >0.0806867</td>\n",
       "                        <td id=\"T_4f535ad8_abc2_11e9_9494_debd95a61f1drow3_col1\" class=\"data row3 col1\" >0.210417</td>\n",
       "                        <td id=\"T_4f535ad8_abc2_11e9_9494_debd95a61f1drow3_col2\" class=\"data row3 col2\" >0.0807261</td>\n",
       "                        <td id=\"T_4f535ad8_abc2_11e9_9494_debd95a61f1drow3_col3\" class=\"data row3 col3\" >1</td>\n",
       "                        <td id=\"T_4f535ad8_abc2_11e9_9494_debd95a61f1drow3_col4\" class=\"data row3 col4\" >0.136603</td>\n",
       "                        <td id=\"T_4f535ad8_abc2_11e9_9494_debd95a61f1drow3_col5\" class=\"data row3 col5\" >0.189118</td>\n",
       "            </tr>\n",
       "            <tr>\n",
       "                        <th id=\"T_4f535ad8_abc2_11e9_9494_debd95a61f1dlevel0_row4\" class=\"row_heading level0 row4\" >bool_of_active</th>\n",
       "                        <td id=\"T_4f535ad8_abc2_11e9_9494_debd95a61f1drow4_col0\" class=\"data row4 col0\" >0.120212</td>\n",
       "                        <td id=\"T_4f535ad8_abc2_11e9_9494_debd95a61f1drow4_col1\" class=\"data row4 col1\" >0.379646</td>\n",
       "                        <td id=\"T_4f535ad8_abc2_11e9_9494_debd95a61f1drow4_col2\" class=\"data row4 col2\" >0.1109</td>\n",
       "                        <td id=\"T_4f535ad8_abc2_11e9_9494_debd95a61f1drow4_col3\" class=\"data row4 col3\" >0.136603</td>\n",
       "                        <td id=\"T_4f535ad8_abc2_11e9_9494_debd95a61f1drow4_col4\" class=\"data row4 col4\" >1</td>\n",
       "                        <td id=\"T_4f535ad8_abc2_11e9_9494_debd95a61f1drow4_col5\" class=\"data row4 col5\" >-0.296443</td>\n",
       "            </tr>\n",
       "            <tr>\n",
       "                        <th id=\"T_4f535ad8_abc2_11e9_9494_debd95a61f1dlevel0_row5\" class=\"row_heading level0 row5\" >weight_kg</th>\n",
       "                        <td id=\"T_4f535ad8_abc2_11e9_9494_debd95a61f1drow5_col0\" class=\"data row5 col0\" >0.109404</td>\n",
       "                        <td id=\"T_4f535ad8_abc2_11e9_9494_debd95a61f1drow5_col1\" class=\"data row5 col1\" >-0.458776</td>\n",
       "                        <td id=\"T_4f535ad8_abc2_11e9_9494_debd95a61f1drow5_col2\" class=\"data row5 col2\" >0.1122</td>\n",
       "                        <td id=\"T_4f535ad8_abc2_11e9_9494_debd95a61f1drow5_col3\" class=\"data row5 col3\" >0.189118</td>\n",
       "                        <td id=\"T_4f535ad8_abc2_11e9_9494_debd95a61f1drow5_col4\" class=\"data row5 col4\" >-0.296443</td>\n",
       "                        <td id=\"T_4f535ad8_abc2_11e9_9494_debd95a61f1drow5_col5\" class=\"data row5 col5\" >1</td>\n",
       "            </tr>\n",
       "    </tbody></table>"
      ],
      "text/plain": [
       "<pandas.io.formats.style.Styler at 0x1836b41f6d8>"
      ]
     },
     "execution_count": 14,
     "metadata": {},
     "output_type": "execute_result"
    }
   ],
   "source": [
    "from pandas.plotting import scatter_matrix\n",
    "corr = dataDrop.corr()\n",
    "corr.style.background_gradient(cmap='coolwarm')"
   ]
  },
  {
   "cell_type": "markdown",
   "metadata": {},
   "source": [
    "From here, we can see that the highest correlation to the mood is the activity of a person.\n",
    "Following our assumption, it is observed that the calories_burned does correlate to the step_count with a R = 0.98926\n",
    "Hence we could drop either of them. We would be dropping calories_burned because based on the domain knowledge, step_count is easily tracked with step count aids."
   ]
  },
  {
   "cell_type": "code",
   "execution_count": 15,
   "metadata": {},
   "outputs": [
    {
     "data": {
      "text/plain": [
       "count    96.000000\n",
       "mean     64.281250\n",
       "std       0.627495\n",
       "min      64.000000\n",
       "25%      64.000000\n",
       "50%      64.000000\n",
       "75%      64.000000\n",
       "max      66.000000\n",
       "Name: weight_kg, dtype: float64"
      ]
     },
     "execution_count": 15,
     "metadata": {},
     "output_type": "execute_result"
    }
   ],
   "source": [
    "#We will be using width binning\n",
    "dataDrop['weight_kg'].describe(include='all')"
   ]
  },
  {
   "cell_type": "markdown",
   "metadata": {},
   "source": [
    "Weight does not seem to give a good data with min = 64 and max = 66"
   ]
  },
  {
   "cell_type": "code",
   "execution_count": 16,
   "metadata": {},
   "outputs": [],
   "source": [
    "features_drop = ['calories_burned', 'weight_kg']\n",
    "dataDrop = dataDrop.drop(features_drop, axis=1)"
   ]
  },
  {
   "cell_type": "code",
   "execution_count": 17,
   "metadata": {},
   "outputs": [
    {
     "data": {
      "text/plain": [
       "step_count        0\n",
       "mood              0\n",
       "hours_of_sleep    0\n",
       "bool_of_active    0\n",
       "dtype: int64"
      ]
     },
     "execution_count": 17,
     "metadata": {},
     "output_type": "execute_result"
    }
   ],
   "source": [
    "dataDrop.isnull().sum()"
   ]
  },
  {
   "cell_type": "code",
   "execution_count": 19,
   "metadata": {},
   "outputs": [
    {
     "name": "stdout",
     "output_type": "stream",
     "text": [
      "300    40\n",
      "100    29\n",
      "200    27\n",
      "Name: mood, dtype: int64\n",
      "0      54\n",
      "500    42\n",
      "Name: bool_of_active, dtype: int64\n"
     ]
    }
   ],
   "source": [
    "#Printing the values count for the data dictionary\n",
    "print(df['mood'].value_counts())\n",
    "print(df['bool_of_active'].value_counts())"
   ]
  },
  {
   "cell_type": "markdown",
   "metadata": {},
   "source": [
    "Next, we do data binning on our data"
   ]
  },
  {
   "cell_type": "code",
   "execution_count": 25,
   "metadata": {},
   "outputs": [],
   "source": [
    "dataDropScaled = dataDrop.copy()\n",
    "\n",
    "#Scaling the data columns \n",
    "dataDropScaled.loc[df['step_count']< 1000, 'step_count'] = 0\n",
    "dataDropScaled.loc[(df['step_count'] >= 1000) & (df['step_count'] < 2000), 'step_count'] = 1\n",
    "dataDropScaled.loc[(df['step_count'] >= 2000) & (df['step_count'] < 3000), 'step_count'] = 2\n",
    "dataDropScaled.loc[(df['step_count'] >= 3000) & (df['step_count'] < 4000), 'step_count'] = 3\n",
    "dataDropScaled.loc[(df['step_count'] >= 4000) & (df['step_count'] < 5000), 'step_count'] = 4\n",
    "dataDropScaled.loc[(df['step_count'] >= 5000) & (df['step_count'] < 6000), 'step_count'] = 5\n",
    "dataDropScaled.loc[(df['step_count'] >= 6000) & (df['step_count'] < 7000), 'step_count'] = 6\n",
    "dataDropScaled.loc[(df['step_count'] >= 7000) & (df['step_count'] < 8000), 'step_count'] = 7\n",
    "dataDropScaled.loc[(df['step_count'] >= 8000) & (df['step_count'] < 9000), 'step_count'] = 8\n",
    "dataDropScaled.loc[(df['step_count'] >= 9000) & (df['step_count'] < 10000), 'step_count'] = 9\n",
    "dataDropScaled.loc[df['step_count'] >= 10000, 'step_count'] = 10"
   ]
  },
  {
   "cell_type": "code",
   "execution_count": 26,
   "metadata": {},
   "outputs": [
    {
     "data": {
      "text/html": [
       "<div>\n",
       "<style scoped>\n",
       "    .dataframe tbody tr th:only-of-type {\n",
       "        vertical-align: middle;\n",
       "    }\n",
       "\n",
       "    .dataframe tbody tr th {\n",
       "        vertical-align: top;\n",
       "    }\n",
       "\n",
       "    .dataframe thead th {\n",
       "        text-align: right;\n",
       "    }\n",
       "</style>\n",
       "<table border=\"1\" class=\"dataframe\">\n",
       "  <thead>\n",
       "    <tr style=\"text-align: right;\">\n",
       "      <th></th>\n",
       "      <th>step_count</th>\n",
       "      <th>mood</th>\n",
       "      <th>hours_of_sleep</th>\n",
       "      <th>bool_of_active</th>\n",
       "    </tr>\n",
       "  </thead>\n",
       "  <tbody>\n",
       "    <tr>\n",
       "      <th>0</th>\n",
       "      <td>5</td>\n",
       "      <td>200</td>\n",
       "      <td>5</td>\n",
       "      <td>0</td>\n",
       "    </tr>\n",
       "    <tr>\n",
       "      <th>1</th>\n",
       "      <td>6</td>\n",
       "      <td>100</td>\n",
       "      <td>8</td>\n",
       "      <td>0</td>\n",
       "    </tr>\n",
       "    <tr>\n",
       "      <th>2</th>\n",
       "      <td>0</td>\n",
       "      <td>100</td>\n",
       "      <td>5</td>\n",
       "      <td>0</td>\n",
       "    </tr>\n",
       "    <tr>\n",
       "      <th>3</th>\n",
       "      <td>5</td>\n",
       "      <td>100</td>\n",
       "      <td>4</td>\n",
       "      <td>0</td>\n",
       "    </tr>\n",
       "    <tr>\n",
       "      <th>4</th>\n",
       "      <td>6</td>\n",
       "      <td>200</td>\n",
       "      <td>5</td>\n",
       "      <td>500</td>\n",
       "    </tr>\n",
       "  </tbody>\n",
       "</table>\n",
       "</div>"
      ],
      "text/plain": [
       "   step_count  mood  hours_of_sleep  bool_of_active\n",
       "0           5   200               5               0\n",
       "1           6   100               8               0\n",
       "2           0   100               5               0\n",
       "3           5   100               4               0\n",
       "4           6   200               5             500"
      ]
     },
     "execution_count": 26,
     "metadata": {},
     "output_type": "execute_result"
    }
   ],
   "source": [
    "dataDropScaled.head()"
   ]
  },
  {
   "cell_type": "markdown",
   "metadata": {},
   "source": [
    "Mood was measured in either \"Happy\", \"Neutral\" or \"Sad\" which were given numeric values of 300, 200 and 100 respectively. Feeling of activeness was measured in either \"Active\" or \"Inactive\" which were given numeric values of 500 and 0 respectively. "
   ]
  },
  {
   "cell_type": "code",
   "execution_count": 30,
   "metadata": {},
   "outputs": [],
   "source": [
    "dataDropScaledMap = dataDropScaled.copy()\n",
    "\n",
    "mydict = {\n",
    "    100: 0,\n",
    "    200: 1,\n",
    "    300: 2,\n",
    "    0: 0,\n",
    "    500: 1,\n",
    "}\n",
    "\n",
    "for i in [1,3]:\n",
    "    dataDropScaledMap.iloc[:, i] = dataDropScaledMap.iloc[:, i].map(mydict)"
   ]
  },
  {
   "cell_type": "markdown",
   "metadata": {},
   "source": [
    "## Modeling"
   ]
  },
  {
   "cell_type": "code",
   "execution_count": 42,
   "metadata": {},
   "outputs": [],
   "source": [
    "# import train_test_split\n",
    "from sklearn.model_selection import train_test_split\n",
    "target = dataDropScaledMap['mood'] # this is like the dependent variable: y\n",
    "x_train, x_test, y_train, y_test = train_test_split(dataDropScaledMap, target, random_state = 42)"
   ]
  },
  {
   "cell_type": "code",
   "execution_count": 48,
   "metadata": {},
   "outputs": [],
   "source": [
    "features_drop_inXTrainTest = ['mood']\n",
    "x_traincopy = x_train.drop(features_drop_inXTrainTest, axis=1)\n",
    "x_testcopy = x_test.drop(features_drop_inXTrainTest, axis=1)"
   ]
  },
  {
   "cell_type": "code",
   "execution_count": 49,
   "metadata": {},
   "outputs": [],
   "source": [
    "# Importing Classifier Modules\n",
    "from sklearn.neighbors import KNeighborsClassifier\n",
    "from sklearn.tree import DecisionTreeClassifier\n",
    "from sklearn.ensemble import RandomForestClassifier\n",
    "from sklearn.naive_bayes import GaussianNB\n",
    "from sklearn.svm import SVC\n",
    "\n",
    "import numpy as np"
   ]
  },
  {
   "cell_type": "code",
   "execution_count": 51,
   "metadata": {},
   "outputs": [
    {
     "data": {
      "text/plain": [
       "DecisionTreeClassifier(class_weight=None, criterion='gini', max_depth=None,\n",
       "                       max_features=None, max_leaf_nodes=None,\n",
       "                       min_impurity_decrease=0.0, min_impurity_split=None,\n",
       "                       min_samples_leaf=1, min_samples_split=2,\n",
       "                       min_weight_fraction_leaf=0.0, presort=False,\n",
       "                       random_state=None, splitter='best')"
      ]
     },
     "execution_count": 51,
     "metadata": {},
     "output_type": "execute_result"
    }
   ],
   "source": [
    "dt = DecisionTreeClassifier() \n",
    "dt.fit(x_traincopy, y_train)"
   ]
  },
  {
   "cell_type": "code",
   "execution_count": 52,
   "metadata": {},
   "outputs": [],
   "source": [
    "y_pred = dt.predict(x_testcopy) # let the model predict the test data"
   ]
  },
  {
   "cell_type": "code",
   "execution_count": 53,
   "metadata": {},
   "outputs": [
    {
     "data": {
      "text/plain": [
       "0.5"
      ]
     },
     "execution_count": 53,
     "metadata": {},
     "output_type": "execute_result"
    }
   ],
   "source": [
    "from sklearn.metrics import accuracy_score\n",
    "accuracy_score(y_test, y_pred)"
   ]
  },
  {
   "cell_type": "code",
   "execution_count": 54,
   "metadata": {},
   "outputs": [],
   "source": [
    "from sklearn.model_selection import KFold\n",
    "from sklearn.model_selection import cross_val_score\n",
    "k_fold = KFold(n_splits=10, shuffle=True, random_state=0)"
   ]
  },
  {
   "cell_type": "code",
   "execution_count": 66,
   "metadata": {},
   "outputs": [],
   "source": [
    "def modeltraining(clf):\n",
    "    scoring = 'accuracy'\n",
    "    score = cross_val_score(clf, x_traincopy, y_train, cv=k_fold, n_jobs=1, scoring=scoring)\n",
    "    print(round(np.mean(score)*100, 2))"
   ]
  },
  {
   "cell_type": "code",
   "execution_count": 69,
   "metadata": {},
   "outputs": [
    {
     "name": "stdout",
     "output_type": "stream",
     "text": [
      "51.25\n",
      "45.71\n",
      "55.0\n",
      "48.39\n",
      "50.0\n"
     ]
    }
   ],
   "source": [
    "modeltraining(KNeighborsClassifier(n_neighbors = 13))\n",
    "modeltraining(DecisionTreeClassifier())\n",
    "modeltraining(RandomForestClassifier(n_estimators=13))\n",
    "modeltraining(GaussianNB())\n",
    "modeltraining(SVC(gamma='scale'))"
   ]
  },
  {
   "cell_type": "markdown",
   "metadata": {},
   "source": [
    "Random Forest Classifier proves to be the best model"
   ]
  },
  {
   "cell_type": "markdown",
   "metadata": {},
   "source": [
    "#### Random Forest"
   ]
  },
  {
   "cell_type": "code",
   "execution_count": 76,
   "metadata": {},
   "outputs": [
    {
     "name": "stdout",
     "output_type": "stream",
     "text": [
      "1\n",
      "0.5833333333333334\n",
      "5\n",
      "0.4166666666666667\n",
      "9\n",
      "0.4583333333333333\n",
      "13\n",
      "0.5\n",
      "17\n",
      "0.4583333333333333\n"
     ]
    }
   ],
   "source": [
    "n_trees = np.arange(1, 20, 4) # build a array contains values form 1 to 100 with step of 4\n",
    "\n",
    "# for each n, we want to check the accuracy of random forest with n trees\n",
    "for n in n_trees:\n",
    "    rdf = RandomForestClassifier(n_estimators = n, random_state = 42)\n",
    "    rdf.fit(x_traincopy, y_train)\n",
    "    # we will print both the number of trees, and the accuracy score\n",
    "    print(n)\n",
    "    print(accuracy_score(y_test, rdf.predict(x_testcopy)))"
   ]
  },
  {
   "cell_type": "markdown",
   "metadata": {},
   "source": [
    "Therefore, on a random day, to predict the overall mood of the author:\n",
    "    with step count of 4500 : 4\n",
    "    hours of sleep: 6\n",
    "    activity - inactive: 0"
   ]
  },
  {
   "cell_type": "code",
   "execution_count": 80,
   "metadata": {},
   "outputs": [
    {
     "data": {
      "text/plain": [
       "RandomForestClassifier(bootstrap=True, class_weight=None, criterion='gini',\n",
       "                       max_depth=None, max_features='auto', max_leaf_nodes=None,\n",
       "                       min_impurity_decrease=0.0, min_impurity_split=None,\n",
       "                       min_samples_leaf=1, min_samples_split=2,\n",
       "                       min_weight_fraction_leaf=0.0, n_estimators=1,\n",
       "                       n_jobs=None, oob_score=False, random_state=42, verbose=0,\n",
       "                       warm_start=False)"
      ]
     },
     "execution_count": 80,
     "metadata": {},
     "output_type": "execute_result"
    }
   ],
   "source": [
    "from sklearn.ensemble import RandomForestClassifier\n",
    "\n",
    "rdForest = RandomForestClassifier(n_estimators = 1, random_state = 42)\n",
    "rdForest.fit(x_traincopy, y_train)"
   ]
  },
  {
   "cell_type": "code",
   "execution_count": 81,
   "metadata": {},
   "outputs": [
    {
     "data": {
      "text/plain": [
       "array([0], dtype=int64)"
      ]
     },
     "execution_count": 81,
     "metadata": {},
     "output_type": "execute_result"
    }
   ],
   "source": [
    "rdForest.predict([[4,6,0]])"
   ]
  },
  {
   "cell_type": "markdown",
   "metadata": {},
   "source": [
    "The output is 0 which means that he is most likely to be unhappy with a 58% accuracy"
   ]
  }
 ],
 "metadata": {
  "kernelspec": {
   "display_name": "Python 3",
   "language": "python",
   "name": "python3"
  },
  "language_info": {
   "codemirror_mode": {
    "name": "ipython",
    "version": 3
   },
   "file_extension": ".py",
   "mimetype": "text/x-python",
   "name": "python",
   "nbconvert_exporter": "python",
   "pygments_lexer": "ipython3",
   "version": "3.7.3"
  }
 },
 "nbformat": 4,
 "nbformat_minor": 2
}
